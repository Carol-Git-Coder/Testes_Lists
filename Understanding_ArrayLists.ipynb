{
  "nbformat": 4,
  "nbformat_minor": 0,
  "metadata": {
    "colab": {
      "provenance": [],
      "authorship_tag": "ABX9TyORDrFr3Lpk8TSK8cZk8vD2",
      "include_colab_link": true
    },
    "kernelspec": {
      "name": "python3",
      "display_name": "Python 3"
    },
    "language_info": {
      "name": "python"
    }
  },
  "cells": [
    {
      "cell_type": "markdown",
      "metadata": {
        "id": "view-in-github",
        "colab_type": "text"
      },
      "source": [
        "<a href=\"https://colab.research.google.com/github/Carol-Git-Coder/Testes_Lists/blob/main/Understanding_ArrayLists.ipynb\" target=\"_parent\"><img src=\"https://colab.research.google.com/assets/colab-badge.svg\" alt=\"Open In Colab\"/></a>"
      ]
    },
    {
      "cell_type": "code",
      "execution_count": null,
      "metadata": {
        "id": "LrkB82yrgj5K"
      },
      "outputs": [],
      "source": []
    },
    {
      "cell_type": "code",
      "source": [
        "a = [[1,2,3,4],[5,4,3,2],[4,5,6,7]]\n",
        "for i in range(len(a)):\n",
        "  for j in range(len(a[i])):\n",
        "    print(a[i][j])"
      ],
      "metadata": {
        "id": "yNTVO9R4yBYQ",
        "colab": {
          "base_uri": "https://localhost:8080/"
        },
        "outputId": "e3551b68-4298-4918-9615-310477941a1a"
      },
      "execution_count": 30,
      "outputs": [
        {
          "output_type": "stream",
          "name": "stdout",
          "text": [
            "1\n",
            "2\n",
            "3\n",
            "4\n",
            "5\n",
            "4\n",
            "3\n",
            "2\n",
            "4\n",
            "5\n",
            "6\n",
            "7\n"
          ]
        }
      ]
    },
    {
      "cell_type": "code",
      "source": [
        "for i in range(len(a)):\n",
        "  print(a[i])"
      ],
      "metadata": {
        "colab": {
          "base_uri": "https://localhost:8080/"
        },
        "id": "zAHYlSyAoVcx",
        "outputId": "fee630e2-e5af-415b-c4af-a7643b38a95e"
      },
      "execution_count": 31,
      "outputs": [
        {
          "output_type": "stream",
          "name": "stdout",
          "text": [
            "[1, 2, 3, 4]\n",
            "[5, 4, 3, 2]\n",
            "[4, 5, 6, 7]\n"
          ]
        }
      ]
    },
    {
      "cell_type": "code",
      "source": [
        "s = 0\n",
        "for i in range(len(a)):\n",
        "  for j in range(len(a[i])):\n",
        "    s = s + a[i][j]\n",
        "    print(s)"
      ],
      "metadata": {
        "colab": {
          "base_uri": "https://localhost:8080/"
        },
        "id": "nr2uyz04wCFo",
        "outputId": "5c7b29ce-30cb-40f4-a1d4-5bcc96bbb58e"
      },
      "execution_count": 38,
      "outputs": [
        {
          "output_type": "stream",
          "name": "stdout",
          "text": [
            "1\n",
            "3\n",
            "6\n",
            "10\n",
            "15\n",
            "19\n",
            "22\n",
            "24\n",
            "28\n",
            "33\n",
            "39\n",
            "46\n"
          ]
        }
      ]
    },
    {
      "cell_type": "code",
      "source": [
        "\n",
        "current_array = ['1','-1','1']\n",
        "print(current_array)\n",
        "desired_array = [int(numeric_string) for numeric_string in current_array]\n",
        "print(desired_array)"
      ],
      "metadata": {
        "colab": {
          "base_uri": "https://localhost:8080/"
        },
        "id": "bQySk26AxKLv",
        "outputId": "ad795301-5834-4ebe-8dc4-d7a1d0775419"
      },
      "execution_count": 71,
      "outputs": [
        {
          "output_type": "stream",
          "name": "stdout",
          "text": [
            "['1', '-1', '1']\n",
            "[1, -1, 1]\n"
          ]
        }
      ]
    },
    {
      "cell_type": "code",
      "source": [
        "aa = input(\"\")\n",
        "current_array  = list(aa.split(','))\n",
        "desired_array = [int(numeric_string) for numeric_string in current_array]\n",
        "print(desired_array)"
      ],
      "metadata": {
        "colab": {
          "base_uri": "https://localhost:8080/"
        },
        "id": "NBOP2GyPz4Ca",
        "outputId": "af8ffc48-96e2-43b1-cd3c-4e35e2ced283"
      },
      "execution_count": 92,
      "outputs": [
        {
          "output_type": "stream",
          "name": "stdout",
          "text": [
            "1,2,3,4\n",
            "[1, 2, 3, 4]\n"
          ]
        }
      ]
    },
    {
      "cell_type": "code",
      "source": [
        "a = \"c ar lina\"\n",
        "cc = list(a.split(' '))\n",
        "print(cc)"
      ],
      "metadata": {
        "colab": {
          "base_uri": "https://localhost:8080/"
        },
        "id": "M6uXNwGm3dsH",
        "outputId": "9c07baef-a4f6-4c90-e500-a01bf493e71d"
      },
      "execution_count": 94,
      "outputs": [
        {
          "output_type": "stream",
          "name": "stdout",
          "text": [
            "['c', 'ar', 'lina']\n"
          ]
        }
      ]
    },
    {
      "cell_type": "code",
      "source": [
        "matrix_exemplo = []\n",
        "for i in range(0,4):\n",
        "  b = input(\"\")\n",
        "  b = list(b.split(','))\n",
        "  m = [int(numestrig) for numestrig in b]\n",
        "  matrix_exemplo.append(m)\n",
        "  print(matrix_exemplo)"
      ],
      "metadata": {
        "colab": {
          "base_uri": "https://localhost:8080/"
        },
        "id": "GXnvcYsG5n8c",
        "outputId": "7aa2a74c-ed1b-4f6c-d59c-61cb5bd5f87e"
      },
      "execution_count": 98,
      "outputs": [
        {
          "output_type": "stream",
          "name": "stdout",
          "text": [
            "1,2,3,4\n",
            "[[1, 2, 3, 4]]\n",
            "3,4,5,6\n",
            "[[1, 2, 3, 4], [3, 4, 5, 6]]\n",
            "2,3,4,5\n",
            "[[1, 2, 3, 4], [3, 4, 5, 6], [2, 3, 4, 5]]\n",
            "8,6\n",
            "[[1, 2, 3, 4], [3, 4, 5, 6], [2, 3, 4, 5], [8, 6]]\n"
          ]
        }
      ]
    },
    {
      "cell_type": "code",
      "source": [
        "total = 0\n",
        "for i in range(0,4):\n",
        "  a = input(\"\")\n",
        "  b = list(a.split(','))\n",
        "  total = total + float(b[i])\n",
        "print(\"Diaonal is: \"+ str(total))\n"
      ],
      "metadata": {
        "colab": {
          "base_uri": "https://localhost:8080/"
        },
        "id": "EFtlmv9y9sxP",
        "outputId": "1cef7f94-7276-4711-a686-02cc8a8932d5"
      },
      "execution_count": 102,
      "outputs": [
        {
          "output_type": "stream",
          "name": "stdout",
          "text": [
            "1,0,0,0\n",
            "0,1,0,0\n",
            "0,0,1,0\n",
            "0,0,0,1\n",
            "Diaonal is: 4.0\n"
          ]
        }
      ]
    },
    {
      "cell_type": "code",
      "source": [],
      "metadata": {
        "colab": {
          "base_uri": "https://localhost:8080/"
        },
        "id": "vmzMZbHT_zKs",
        "outputId": "3eae4ee3-085b-43b2-87af-b1527be3d6cb"
      },
      "execution_count": 100,
      "outputs": [
        {
          "output_type": "stream",
          "name": "stdout",
          "text": [
            "[1.0, 2.0, 3.0, 4.0]\n"
          ]
        }
      ]
    },
    {
      "cell_type": "code",
      "source": [],
      "metadata": {
        "id": "HAQljqIU_3Ua"
      },
      "execution_count": null,
      "outputs": []
    }
  ]
}